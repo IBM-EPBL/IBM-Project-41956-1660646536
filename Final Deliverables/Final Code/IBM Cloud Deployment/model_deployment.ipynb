{
 "cells": [
  {
   "cell_type": "markdown",
   "id": "37b0d6db",
   "metadata": {},
   "source": [
    "# Model Deployment in IBM Cloud"
   ]
  },
  {
   "cell_type": "code",
   "execution_count": 1,
   "id": "ca428655",
   "metadata": {},
   "outputs": [],
   "source": [
    "model_path = \"models/digit_classifier.h5\""
   ]
  },
  {
   "cell_type": "code",
   "execution_count": 2,
   "id": "ad1c93c9",
   "metadata": {},
   "outputs": [
    {
     "name": "stderr",
     "output_type": "stream",
     "text": [
      "a models/digit_classifier.h5\n"
     ]
    }
   ],
   "source": [
    "!tar -zcvf digit_classification_model.tgz \"models/digit_classifier.h5\""
   ]
  },
  {
   "cell_type": "markdown",
   "id": "d96ae2b7",
   "metadata": {},
   "source": [
    "## Install watson-machine-learning-client module"
   ]
  },
  {
   "cell_type": "code",
   "execution_count": 2,
   "id": "7569648f",
   "metadata": {},
   "outputs": [
    {
     "name": "stdout",
     "output_type": "stream",
     "text": [
      "Collecting ibm-watson-machine-learning"
     ]
    },
    {
     "name": "stderr",
     "output_type": "stream",
     "text": [
      "WARNING: You are using pip version 21.2.4; however, version 22.3.1 is available.\n",
      "You should consider upgrading via the 'C:\\Users\\MOHAN\\AppData\\Local\\Programs\\Python\\Python39\\python.exe -m pip install --upgrade pip' command.\n"
     ]
    },
    {
     "name": "stdout",
     "output_type": "stream",
     "text": [
      "\n",
      "  Using cached ibm_watson_machine_learning-1.0.257-py3-none-any.whl (1.8 MB)\n",
      "Collecting ibm-cos-sdk==2.11.*\n",
      "  Using cached ibm-cos-sdk-2.11.0.tar.gz (53 kB)\n",
      "Requirement already satisfied: packaging in c:\\users\\mohan\\appdata\\local\\programs\\python\\python39\\lib\\site-packages (from ibm-watson-machine-learning) (21.3)\n",
      "Requirement already satisfied: requests in c:\\users\\mohan\\appdata\\local\\programs\\python\\python39\\lib\\site-packages (from ibm-watson-machine-learning) (2.28.1)\n",
      "Requirement already satisfied: urllib3 in c:\\users\\mohan\\appdata\\local\\programs\\python\\python39\\lib\\site-packages (from ibm-watson-machine-learning) (1.26.12)\n",
      "Requirement already satisfied: certifi in c:\\users\\mohan\\appdata\\local\\programs\\python\\python39\\lib\\site-packages (from ibm-watson-machine-learning) (2022.9.24)\n",
      "Collecting pandas<1.5.0,>=0.24.2\n",
      "  Using cached pandas-1.4.4-cp39-cp39-win_amd64.whl (10.6 MB)\n",
      "Collecting lomond\n",
      "  Using cached lomond-0.3.3-py2.py3-none-any.whl (35 kB)\n",
      "Requirement already satisfied: importlib-metadata in c:\\users\\mohan\\appdata\\local\\programs\\python\\python39\\lib\\site-packages (from ibm-watson-machine-learning) (5.0.0)\n",
      "Collecting tabulate\n",
      "  Using cached tabulate-0.9.0-py3-none-any.whl (35 kB)\n",
      "Collecting ibm-cos-sdk-core==2.11.0\n",
      "  Using cached ibm-cos-sdk-core-2.11.0.tar.gz (913 kB)\n",
      "Collecting ibm-cos-sdk-s3transfer==2.11.0\n",
      "  Using cached ibm-cos-sdk-s3transfer-2.11.0.tar.gz (135 kB)\n",
      "Collecting jmespath<1.0.0,>=0.7.1\n",
      "  Downloading jmespath-0.10.0-py2.py3-none-any.whl (24 kB)\n",
      "Requirement already satisfied: python-dateutil<3.0.0,>=2.1 in c:\\users\\mohan\\appdata\\local\\programs\\python\\python39\\lib\\site-packages (from ibm-cos-sdk-core==2.11.0->ibm-cos-sdk==2.11.*->ibm-watson-machine-learning) (2.8.2)\n",
      "Requirement already satisfied: numpy>=1.18.5 in c:\\users\\mohan\\appdata\\local\\programs\\python\\python39\\lib\\site-packages (from pandas<1.5.0,>=0.24.2->ibm-watson-machine-learning) (1.22.3)\n",
      "Requirement already satisfied: pytz>=2020.1 in c:\\users\\mohan\\appdata\\local\\programs\\python\\python39\\lib\\site-packages (from pandas<1.5.0,>=0.24.2->ibm-watson-machine-learning) (2022.6)\n",
      "Requirement already satisfied: six>=1.5 in c:\\users\\mohan\\appdata\\local\\programs\\python\\python39\\lib\\site-packages (from python-dateutil<3.0.0,>=2.1->ibm-cos-sdk-core==2.11.0->ibm-cos-sdk==2.11.*->ibm-watson-machine-learning) (1.16.0)\n",
      "Requirement already satisfied: charset-normalizer<3,>=2 in c:\\users\\mohan\\appdata\\local\\programs\\python\\python39\\lib\\site-packages (from requests->ibm-watson-machine-learning) (2.1.1)\n",
      "Requirement already satisfied: idna<4,>=2.5 in c:\\users\\mohan\\appdata\\local\\programs\\python\\python39\\lib\\site-packages (from requests->ibm-watson-machine-learning) (3.4)\n",
      "Requirement already satisfied: zipp>=0.5 in c:\\users\\mohan\\appdata\\local\\programs\\python\\python39\\lib\\site-packages (from importlib-metadata->ibm-watson-machine-learning) (3.10.0)\n",
      "Requirement already satisfied: pyparsing!=3.0.5,>=2.0.2 in c:\\users\\mohan\\appdata\\local\\programs\\python\\python39\\lib\\site-packages (from packaging->ibm-watson-machine-learning) (3.0.7)\n",
      "Using legacy 'setup.py install' for ibm-cos-sdk, since package 'wheel' is not installed.\n",
      "Using legacy 'setup.py install' for ibm-cos-sdk-core, since package 'wheel' is not installed.\n",
      "Using legacy 'setup.py install' for ibm-cos-sdk-s3transfer, since package 'wheel' is not installed.\n",
      "Installing collected packages: jmespath, ibm-cos-sdk-core, ibm-cos-sdk-s3transfer, tabulate, pandas, lomond, ibm-cos-sdk, ibm-watson-machine-learning\n",
      "    Running setup.py install for ibm-cos-sdk-core: started\n",
      "    Running setup.py install for ibm-cos-sdk-core: finished with status 'done'\n",
      "    Running setup.py install for ibm-cos-sdk-s3transfer: started\n",
      "    Running setup.py install for ibm-cos-sdk-s3transfer: finished with status 'done'\n",
      "  Attempting uninstall: pandas\n",
      "    Found existing installation: pandas 1.5.1\n",
      "    Uninstalling pandas-1.5.1:\n",
      "      Successfully uninstalled pandas-1.5.1\n",
      "    Running setup.py install for ibm-cos-sdk: started\n",
      "    Running setup.py install for ibm-cos-sdk: finished with status 'done'\n",
      "Successfully installed ibm-cos-sdk-2.11.0 ibm-cos-sdk-core-2.11.0 ibm-cos-sdk-s3transfer-2.11.0 ibm-watson-machine-learning-1.0.257 jmespath-0.10.0 lomond-0.3.3 pandas-1.4.4 tabulate-0.9.0\n"
     ]
    }
   ],
   "source": [
    "!pip install ibm-watson-machine-learning"
   ]
  },
  {
   "cell_type": "markdown",
   "id": "77fc82e5",
   "metadata": {},
   "source": [
    "## Import the required libraries"
   ]
  },
  {
   "cell_type": "code",
   "execution_count": 3,
   "id": "9db89c42",
   "metadata": {},
   "outputs": [],
   "source": [
    "from ibm_watson_machine_learning import APIClient"
   ]
  },
  {
   "cell_type": "markdown",
   "id": "b867ae3e",
   "metadata": {},
   "source": [
    "## Get credentials"
   ]
  },
  {
   "cell_type": "code",
   "execution_count": 4,
   "id": "b8d118ea",
   "metadata": {},
   "outputs": [],
   "source": [
    "wml_credentials = {\n",
    "    \"url\": \"https://us-south.ml.cloud.ibm.com\",\n",
    "    \"apikey\": \"Ae9iaQOLtJ0YNn2j3D08sarZyzugtWpgzWw9FvKBoEWU\"\n",
    "}\n",
    "\n",
    "client = APIClient(wml_credentials)"
   ]
  },
  {
   "cell_type": "markdown",
   "id": "563afe4e",
   "metadata": {},
   "source": [
    "## Store the model in deployment spaces"
   ]
  },
  {
   "cell_type": "code",
   "execution_count": 5,
   "id": "5d3ea644",
   "metadata": {},
   "outputs": [],
   "source": [
    "# function to store the model in deployment space\n",
    "def guid_from_space_name(client, space_name):\n",
    "    space = client.spaces.get_details()\n",
    "    return (\n",
    "        next(item for item in space[\"resources\"] if item[\"entity\"][\"name\"] == space_name)[\"metadata\"][\"id\"]\n",
    "    )"
   ]
  },
  {
   "cell_type": "code",
   "execution_count": 6,
   "id": "8d095966",
   "metadata": {},
   "outputs": [
    {
     "name": "stdout",
     "output_type": "stream",
     "text": [
      "Space UID - 14b2198f-07d1-4d6c-94f7-cf8abd238d0d\n"
     ]
    }
   ],
   "source": [
    "space_uid = guid_from_space_name(client, \"Deployment Space For Digit Classification Model\")\n",
    "print(\"Space UID - \" + space_uid)"
   ]
  },
  {
   "cell_type": "markdown",
   "id": "80182737",
   "metadata": {},
   "source": [
    "## Make the deployment space default"
   ]
  },
  {
   "cell_type": "code",
   "execution_count": 7,
   "id": "7209bbf1",
   "metadata": {},
   "outputs": [
    {
     "data": {
      "text/plain": [
       "'SUCCESS'"
      ]
     },
     "execution_count": 7,
     "metadata": {},
     "output_type": "execute_result"
    }
   ],
   "source": [
    "client.set.default_space(space_uid)"
   ]
  },
  {
   "cell_type": "code",
   "execution_count": 15,
   "id": "40929ae2",
   "metadata": {},
   "outputs": [
    {
     "name": "stdout",
     "output_type": "stream",
     "text": [
      "-----------------------------  ------------------------------------  ----\n",
      "NAME                           ASSET_ID                              TYPE\n",
      "default_py3.6                  0062b8c9-8b7d-44a0-a9b9-46c416adcbd9  base\n",
      "kernel-spark3.2-scala2.12      020d69ce-7ac1-5e68-ac1a-31189867356a  base\n",
      "pytorch-onnx_1.3-py3.7-edt     069ea134-3346-5748-b513-49120e15d288  base\n",
      "scikit-learn_0.20-py3.6        09c5a1d0-9c1e-4473-a344-eb7b665ff687  base\n",
      "spark-mllib_3.0-scala_2.12     09f4cff0-90a7-5899-b9ed-1ef348aebdee  base\n",
      "pytorch-onnx_rt22.1-py3.9      0b848dd4-e681-5599-be41-b5f6fccc6471  base\n",
      "ai-function_0.1-py3.6          0cdb0f1e-5376-4f4d-92dd-da3b69aa9bda  base\n",
      "shiny-r3.6                     0e6e79df-875e-4f24-8ae9-62dcc2148306  base\n",
      "tensorflow_2.4-py3.7-horovod   1092590a-307d-563d-9b62-4eb7d64b3f22  base\n",
      "pytorch_1.1-py3.6              10ac12d6-6b30-4ccd-8392-3e922c096a92  base\n",
      "tensorflow_1.15-py3.6-ddl      111e41b3-de2d-5422-a4d6-bf776828c4b7  base\n",
      "autoai-kb_rt22.2-py3.10        125b6d9a-5b1f-5e8d-972a-b251688ccf40  base\n",
      "runtime-22.1-py3.9             12b83a17-24d8-5082-900f-0ab31fbfd3cb  base\n",
      "scikit-learn_0.22-py3.6        154010fa-5b3b-4ac1-82af-4d5ee5abbc85  base\n",
      "default_r3.6                   1b70aec3-ab34-4b87-8aa0-a4a3c8296a36  base\n",
      "pytorch-onnx_1.3-py3.6         1bc6029a-cc97-56da-b8e0-39c3880dbbe7  base\n",
      "kernel-spark3.3-r3.6           1c9e5454-f216-59dd-a20e-474a5cdf5988  base\n",
      "pytorch-onnx_rt22.1-py3.9-edt  1d362186-7ad5-5b59-8b6c-9d0880bde37f  base\n",
      "tensorflow_2.1-py3.6           1eb25b84-d6ed-5dde-b6a5-3fbdf1665666  base\n",
      "spark-mllib_3.2                20047f72-0a98-58c7-9ff5-a77b012eb8f5  base\n",
      "tensorflow_2.4-py3.8-horovod   217c16f6-178f-56bf-824a-b19f20564c49  base\n",
      "runtime-22.1-py3.9-cuda        26215f05-08c3-5a41-a1b0-da66306ce658  base\n",
      "do_py3.8                       295addb5-9ef9-547e-9bf4-92ae3563e720  base\n",
      "autoai-ts_3.8-py3.8            2aa0c932-798f-5ae9-abd6-15e0c2402fb5  base\n",
      "tensorflow_1.15-py3.6          2b73a275-7cbf-420b-a912-eae7f436e0bc  base\n",
      "kernel-spark3.3-py3.9          2b7961e2-e3b1-5a8c-a491-482c8368839a  base\n",
      "pytorch_1.2-py3.6              2c8ef57d-2687-4b7d-acce-01f94976dac1  base\n",
      "spark-mllib_2.3                2e51f700-bca0-4b0d-88dc-5c6791338875  base\n",
      "pytorch-onnx_1.1-py3.6-edt     32983cea-3f32-4400-8965-dde874a8d67e  base\n",
      "spark-mllib_3.0-py37           36507ebe-8770-55ba-ab2a-eafe787600e9  base\n",
      "spark-mllib_2.4                390d21f8-e58b-4fac-9c55-d7ceda621326  base\n",
      "autoai-ts_rt22.2-py3.10        396b2e83-0953-5b86-9a55-7ce1628a406f  base\n",
      "xgboost_0.82-py3.6             39e31acd-5f30-41dc-ae44-60233c80306e  base\n",
      "pytorch-onnx_1.2-py3.6-edt     40589d0e-7019-4e28-8daa-fb03b6f4fe12  base\n",
      "pytorch-onnx_rt22.2-py3.10     40e73f55-783a-5535-b3fa-0c8b94291431  base\n",
      "default_r36py38                41c247d3-45f8-5a71-b065-8580229facf0  base\n",
      "autoai-ts_rt22.1-py3.9         4269d26e-07ba-5d40-8f66-2d495b0c71f7  base\n",
      "autoai-obm_3.0                 42b92e18-d9ab-567f-988a-4240ba1ed5f7  base\n",
      "pmml-3.0_4.3                   493bcb95-16f1-5bc5-bee8-81b8af80e9c7  base\n",
      "spark-mllib_2.4-r_3.6          49403dff-92e9-4c87-a3d7-a42d0021c095  base\n",
      "xgboost_0.90-py3.6             4ff8d6c2-1343-4c18-85e1-689c965304d3  base\n",
      "pytorch-onnx_1.1-py3.6         50f95b2a-bc16-43bb-bc94-b0bed208c60b  base\n",
      "autoai-ts_3.9-py3.8            52c57136-80fa-572e-8728-a5e7cbb42cde  base\n",
      "spark-mllib_2.4-scala_2.11     55a70f99-7320-4be5-9fb9-9edb5a443af5  base\n",
      "spark-mllib_3.0                5c1b0ca2-4977-5c2e-9439-ffd44ea8ffe9  base\n",
      "autoai-obm_2.0                 5c2e37fa-80b8-5e77-840f-d912469614ee  base\n",
      "spss-modeler_18.1              5c3cad7e-507f-4b2a-a9a3-ab53a21dee8b  base\n",
      "cuda-py3.8                     5d3232bf-c86b-5df4-a2cd-7bb870a1cd4e  base\n",
      "autoai-kb_3.1-py3.7            632d4b22-10aa-5180-88f0-f52dfb6444d7  base\n",
      "pytorch-onnx_1.7-py3.8         634d3cdc-b562-5bf9-a2d4-ea90a478456b  base\n",
      "-----------------------------  ------------------------------------  ----\n",
      "Note: Only first 50 records were displayed. To display more use 'limit' parameter.\n"
     ]
    }
   ],
   "source": [
    "client.software_specifications.list()"
   ]
  },
  {
   "cell_type": "markdown",
   "id": "49f59e59",
   "metadata": {},
   "source": [
    "## Choose software specification"
   ]
  },
  {
   "cell_type": "code",
   "execution_count": 25,
   "id": "0e1a6a05",
   "metadata": {},
   "outputs": [
    {
     "name": "stdout",
     "output_type": "stream",
     "text": [
      "Software Specification UID - acd9c798-6974-5d2f-a657-ce06e986df4d\n"
     ]
    }
   ],
   "source": [
    "software_spec_uid = client.software_specifications.get_uid_by_name(\"tensorflow_rt22.1-py3.9\")\n",
    "print(f\"Software Specification UID - {software_spec_uid}\")"
   ]
  },
  {
   "cell_type": "code",
   "execution_count": 29,
   "id": "19c3bcae",
   "metadata": {},
   "outputs": [
    {
     "name": "stdout",
     "output_type": "stream",
     "text": [
      "Model ID - 6fdb38ba-6da8-4a77-b85f-904f1f79eea9\n"
     ]
    }
   ],
   "source": [
    "model_details = client.repository.store_model(\n",
    "    model=\"digit_classification_model.tgz\",\n",
    "    meta_props={\n",
    "        client.repository.ModelMetaNames.NAME: \"CNN\",\n",
    "        client.repository.ModelMetaNames.TYPE: \"tensorflow_2.7\",\n",
    "        client.repository.ModelMetaNames.SOFTWARE_SPEC_UID: software_spec_uid\n",
    "    }\n",
    ")\n",
    "model_id = client.repository.get_model_id(model_details)\n",
    "print(f\"Model ID - {model_id}\")"
   ]
  },
  {
   "cell_type": "code",
   "execution_count": 30,
   "id": "5b5d1ef0",
   "metadata": {},
   "outputs": [
    {
     "data": {
      "text/plain": [
       "{'entity': {'hybrid_pipeline_software_specs': [],\n",
       "  'software_spec': {'id': 'acd9c798-6974-5d2f-a657-ce06e986df4d',\n",
       "   'name': 'tensorflow_rt22.1-py3.9'},\n",
       "  'type': 'tensorflow_2.7'},\n",
       " 'metadata': {'created_at': '2022-11-17T09:10:32.765Z',\n",
       "  'id': '6fdb38ba-6da8-4a77-b85f-904f1f79eea9',\n",
       "  'modified_at': '2022-11-17T09:10:46.969Z',\n",
       "  'name': 'CNN',\n",
       "  'owner': 'IBMid-66300413LT',\n",
       "  'resource_key': '3786a518-ecc4-4858-9bca-9241dd9d0c8a',\n",
       "  'space_id': '14b2198f-07d1-4d6c-94f7-cf8abd238d0d'},\n",
       " 'system': {'warnings': []}}"
      ]
     },
     "execution_count": 30,
     "metadata": {},
     "output_type": "execute_result"
    }
   ],
   "source": [
    "model_details"
   ]
  },
  {
   "cell_type": "markdown",
   "id": "b995a027",
   "metadata": {},
   "source": [
    "## Download the model\n",
    "* Dowload the trained model which is deployed in IBM Cloud."
   ]
  },
  {
   "cell_type": "code",
   "execution_count": 32,
   "id": "7bc859c9",
   "metadata": {},
   "outputs": [
    {
     "name": "stdout",
     "output_type": "stream",
     "text": [
      "Successfully saved model content to file: 'models/digit_classifier_IBM_model.tar.gz'\n"
     ]
    },
    {
     "data": {
      "text/plain": [
       "'C:\\\\Users\\\\MOHAN\\\\Desktop\\\\Project-Source Code/models/digit_classifier_IBM_model.tar.gz'"
      ]
     },
     "execution_count": 32,
     "metadata": {},
     "output_type": "execute_result"
    }
   ],
   "source": [
    "client.repository.download(model_id, filename=\"models/digit_classifier_IBM_model.tar.gz\")"
   ]
  }
 ],
 "metadata": {
  "kernelspec": {
   "display_name": "Python 3 (ipykernel)",
   "language": "python",
   "name": "python3"
  },
  "language_info": {
   "codemirror_mode": {
    "name": "ipython",
    "version": 3
   },
   "file_extension": ".py",
   "mimetype": "text/x-python",
   "name": "python",
   "nbconvert_exporter": "python",
   "pygments_lexer": "ipython3",
   "version": "3.9.10"
  }
 },
 "nbformat": 4,
 "nbformat_minor": 5
}
