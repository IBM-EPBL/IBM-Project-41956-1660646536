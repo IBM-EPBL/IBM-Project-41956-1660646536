{
  "nbformat": 4,
  "nbformat_minor": 0,
  "metadata": {
    "colab": {
      "provenance": []
    },
    "kernelspec": {
      "name": "python3",
      "display_name": "Python 3"
    },
    "language_info": {
      "name": "python"
    },
    "gpuClass": "standard"
  },
  "cells": [
    {
      "cell_type": "markdown",
      "source": [
        "# Project Development Phase"
      ],
      "metadata": {
        "id": "Y0dPyoSzX0-p"
      }
    },
    {
      "cell_type": "markdown",
      "source": [
        "## Sprint 2 - Model Evaluation"
      ],
      "metadata": {
        "id": "FqoZ-UUaX64_"
      }
    },
    {
      "cell_type": "markdown",
      "source": [
        "### Importing the required libraries"
      ],
      "metadata": {
        "id": "Hi-UdVqBYCSS"
      }
    },
    {
      "cell_type": "code",
      "execution_count": 7,
      "metadata": {
        "id": "QIJp_YeqXkt9"
      },
      "outputs": [],
      "source": [
        "import cv2\n",
        "from keras.datasets import mnist\n",
        "from keras.models import load_model\n",
        "from keras.utils import to_categorical"
      ]
    },
    {
      "cell_type": "markdown",
      "source": [
        "### Loading the MNIST dataset"
      ],
      "metadata": {
        "id": "H_RMcAlUYLBv"
      }
    },
    {
      "cell_type": "code",
      "source": [
        "(x_train, y_train), (x_test, y_test) = mnist.load_data()"
      ],
      "metadata": {
        "id": "SjD7eMtGYIy5"
      },
      "execution_count": 8,
      "outputs": []
    },
    {
      "cell_type": "code",
      "source": [
        "x_test.shape, y_test.shape"
      ],
      "metadata": {
        "colab": {
          "base_uri": "https://localhost:8080/"
        },
        "id": "QWNOQmhfYRPX",
        "outputId": "4eedf78b-1186-4aea-e31e-d07a05d972de"
      },
      "execution_count": 9,
      "outputs": [
        {
          "output_type": "execute_result",
          "data": {
            "text/plain": [
              "((10000, 28, 28), (10000,))"
            ]
          },
          "metadata": {},
          "execution_count": 9
        }
      ]
    },
    {
      "cell_type": "code",
      "source": [
        "# applying threshold\n",
        "_, x_test_th = cv2.threshold(x_test,127,255,cv2.THRESH_BINARY)"
      ],
      "metadata": {
        "id": "iru-pq6dYU4d"
      },
      "execution_count": 10,
      "outputs": []
    },
    {
      "cell_type": "markdown",
      "source": [
        "### Reshaping"
      ],
      "metadata": {
        "id": "FFsau_97YchK"
      }
    },
    {
      "cell_type": "code",
      "source": [
        "x_test = x_test_th.reshape(-1,28,28,1)"
      ],
      "metadata": {
        "id": "-P-iZEG-YXbk"
      },
      "execution_count": 11,
      "outputs": []
    },
    {
      "cell_type": "markdown",
      "source": [
        "### Applying one hot encoding"
      ],
      "metadata": {
        "id": "80-N6cGDYiwj"
      }
    },
    {
      "cell_type": "code",
      "source": [
        "y_test = to_categorical(y_test, num_classes = 10)"
      ],
      "metadata": {
        "id": "Wfo0Xv7lYecl"
      },
      "execution_count": 12,
      "outputs": []
    },
    {
      "cell_type": "markdown",
      "source": [
        "### Loading the saved model"
      ],
      "metadata": {
        "id": "osy2N2v1Y5qL"
      }
    },
    {
      "cell_type": "code",
      "source": [
        "model = load_model(\"digit_classifier.h5\")"
      ],
      "metadata": {
        "id": "tcVCZ_bGYk_V"
      },
      "execution_count": 13,
      "outputs": []
    },
    {
      "cell_type": "markdown",
      "source": [
        "### Evaluting the model"
      ],
      "metadata": {
        "id": "CoqFrii5ZS2l"
      }
    },
    {
      "cell_type": "code",
      "source": [
        "evaluation = model.evaluate(x_test, y_test)"
      ],
      "metadata": {
        "colab": {
          "base_uri": "https://localhost:8080/"
        },
        "id": "yA67Ns6BZsL5",
        "outputId": "5c6cfb2b-0c4b-48b0-f987-03e5745b44fa"
      },
      "execution_count": 14,
      "outputs": [
        {
          "output_type": "stream",
          "name": "stdout",
          "text": [
            "313/313 [==============================] - 12s 35ms/step - loss: 0.0492 - accuracy: 0.9861\n"
          ]
        }
      ]
    },
    {
      "cell_type": "code",
      "source": [
        "print(f\"Accuracy: {evaluation[1]}\")\n",
        "print(f\"Loss: {evaluation[0]}\")"
      ],
      "metadata": {
        "colab": {
          "base_uri": "https://localhost:8080/"
        },
        "id": "OuvRfuwgZwOV",
        "outputId": "40cd2226-5591-4c25-8e17-d786e73373e4"
      },
      "execution_count": 16,
      "outputs": [
        {
          "output_type": "stream",
          "name": "stdout",
          "text": [
            "Accuracy: 0.9861000180244446\n",
            "Loss: 0.049150239676237106\n"
          ]
        }
      ]
    }
  ]
}