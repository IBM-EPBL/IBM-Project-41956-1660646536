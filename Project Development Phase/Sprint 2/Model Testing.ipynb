{
  "nbformat": 4,
  "nbformat_minor": 0,
  "metadata": {
    "colab": {
      "provenance": []
    },
    "kernelspec": {
      "name": "python3",
      "display_name": "Python 3"
    },
    "language_info": {
      "name": "python"
    },
    "gpuClass": "standard"
  },
  "cells": [
    {
      "cell_type": "markdown",
      "source": [
        "# Project Development Phase"
      ],
      "metadata": {
        "id": "Y0dPyoSzX0-p"
      }
    },
    {
      "cell_type": "markdown",
      "source": [
        "## Sprint 2 - Testing The Model"
      ],
      "metadata": {
        "id": "FqoZ-UUaX64_"
      }
    },
    {
      "cell_type": "markdown",
      "source": [
        "### Importing the required libraries"
      ],
      "metadata": {
        "id": "Hi-UdVqBYCSS"
      }
    },
    {
      "cell_type": "code",
      "execution_count": 36,
      "metadata": {
        "id": "QIJp_YeqXkt9"
      },
      "outputs": [],
      "source": [
        "import cv2\n",
        "import numpy as np\n",
        "from keras.datasets import mnist\n",
        "from keras.models import load_model\n",
        "from keras.utils import to_categorical\n",
        "from matplotlib import pyplot as plt"
      ]
    },
    {
      "cell_type": "markdown",
      "source": [
        "### Loading the MNIST dataset"
      ],
      "metadata": {
        "id": "H_RMcAlUYLBv"
      }
    },
    {
      "cell_type": "code",
      "source": [
        "(x_train, y_train), (x_test, y_test) = mnist.load_data()"
      ],
      "metadata": {
        "id": "SjD7eMtGYIy5"
      },
      "execution_count": 37,
      "outputs": []
    },
    {
      "cell_type": "markdown",
      "source": [
        "### Loading the saved model"
      ],
      "metadata": {
        "id": "osy2N2v1Y5qL"
      }
    },
    {
      "cell_type": "code",
      "source": [
        "model = load_model(\"digit_classifier.h5\")"
      ],
      "metadata": {
        "id": "tcVCZ_bGYk_V"
      },
      "execution_count": 38,
      "outputs": []
    },
    {
      "cell_type": "markdown",
      "source": [
        "### Predicting the model"
      ],
      "metadata": {
        "id": "mKwIcJD1bbEt"
      }
    },
    {
      "cell_type": "markdown",
      "source": [
        "#### Test Image - 1"
      ],
      "metadata": {
        "id": "_2_OFCLvd7Rp"
      }
    },
    {
      "cell_type": "code",
      "source": [
        "plt.imshow(x_train[0])"
      ],
      "metadata": {
        "colab": {
          "base_uri": "https://localhost:8080/",
          "height": 282
        },
        "id": "BF036JIhbuGv",
        "outputId": "2d0e3aea-d30e-4396-a011-9da3b9ec0e35"
      },
      "execution_count": 39,
      "outputs": [
        {
          "output_type": "execute_result",
          "data": {
            "text/plain": [
              "<matplotlib.image.AxesImage at 0x7f537a9a6fd0>"
            ]
          },
          "metadata": {},
          "execution_count": 39
        },
        {
          "output_type": "display_data",
          "data": {
            "text/plain": [
              "<Figure size 432x288 with 1 Axes>"
            ],
            "image/png": "[encoded data removed]"
          },
          "metadata": {
            "needs_background": "light"
          }
        }
      ]
    },
    {
      "cell_type": "code",
      "source": [
        "test_img_1 = x_train[0].reshape(-1,28,28,1)\n",
        "prediction_1 = model.predict(test_img_1)\n",
        "print(np.argmax(prediction_1))"
      ],
      "metadata": {
        "colab": {
          "base_uri": "https://localhost:8080/"
        },
        "id": "LNveHuj6bcq2",
        "outputId": "f3d4f5bc-61ff-4d3c-f386-046dcec7e11e"
      },
      "execution_count": 40,
      "outputs": [
        {
          "output_type": "stream",
          "name": "stdout",
          "text": [
            "1/1 [==============================] - 0s 68ms/step\n",
            "5\n"
          ]
        }
      ]
    },
    {
      "cell_type": "markdown",
      "source": [
        "#### Test Image - 2"
      ],
      "metadata": {
        "id": "x6NKFO2HeAYC"
      }
    },
    {
      "cell_type": "code",
      "source": [
        "plt.imshow(x_train[400])"
      ],
      "metadata": {
        "colab": {
          "base_uri": "https://localhost:8080/",
          "height": 282
        },
        "id": "nnJhTC2ddrQ-",
        "outputId": "3d8ad842-7f1a-4689-bd24-b449bd074998"
      },
      "execution_count": 41,
      "outputs": [
        {
          "output_type": "execute_result",
          "data": {
            "text/plain": [
              "<matplotlib.image.AxesImage at 0x7f537a92b390>"
            ]
          },
          "metadata": {},
          "execution_count": 41
        },
        {
          "output_type": "display_data",
          "data": {
            "text/plain": [
              "<Figure size 432x288 with 1 Axes>"
            ],
            "image/png": "[encoded data removed]"
          },
          "metadata": {
            "needs_background": "light"
          }
        }
      ]
    },
    {
      "cell_type": "code",
      "source": [
        "test_img_2 = x_train[400].reshape(-1, 28, 28, 1)\n",
        "prediction_2 = model.predict(test_img_2)\n",
        "print(np.argmax(prediction_2))"
      ],
      "metadata": {
        "colab": {
          "base_uri": "https://localhost:8080/"
        },
        "id": "YDBWbCWfcQSI",
        "outputId": "d1d6bf8e-6965-4e67-a84c-4626fe8e706a"
      },
      "execution_count": 42,
      "outputs": [
        {
          "output_type": "stream",
          "name": "stdout",
          "text": [
            "1/1 [==============================] - 0s 20ms/step\n",
            "2\n"
          ]
        }
      ]
    }
  ]
}