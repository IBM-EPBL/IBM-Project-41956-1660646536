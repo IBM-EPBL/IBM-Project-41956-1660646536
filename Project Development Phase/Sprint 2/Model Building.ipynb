{
  "nbformat": 4,
  "nbformat_minor": 0,
  "metadata": {
    "colab": {
      "provenance": []
    },
    "kernelspec": {
      "name": "python3",
      "display_name": "Python 3"
    },
    "language_info": {
      "name": "python"
    },
    "accelerator": "GPU",
    "gpuClass": "standard"
  },
  "cells": [
    {
      "cell_type": "markdown",
      "source": [
        "# Project Development Phase"
      ],
      "metadata": {
        "id": "f08F3jcCMnBD"
      }
    },
    {
      "cell_type": "markdown",
      "source": [
        "## Sprint 2 - Model Building"
      ],
      "metadata": {
        "id": "8_6rJiGdM0Iw"
      }
    },
    {
      "cell_type": "markdown",
      "source": [
        "### Importing the required libraries"
      ],
      "metadata": {
        "id": "Mmb9vy0-Nlqe"
      }
    },
    {
      "cell_type": "code",
      "execution_count": 1,
      "metadata": {
        "id": "SN1a-Kd8MNT5"
      },
      "outputs": [],
      "source": [
        "import numpy as np\n",
        "import cv2\n",
        "import matplotlib.pyplot as plt\n",
        "from keras.models import Sequential\n",
        "from keras.layers.core import Dense, Dropout, Activation, Flatten\n",
        "from keras.layers import Conv2D, MaxPool2D\n",
        "from keras import optimizers\n",
        "from keras.datasets import mnist\n",
        "from keras.utils import to_categorical\n",
        "import keras"
      ]
    },
    {
      "cell_type": "markdown",
      "source": [
        "### Loading the data"
      ],
      "metadata": {
        "id": "KJlptPURNq3V"
      }
    },
    {
      "cell_type": "code",
      "source": [
        "(X_train, y_train), (X_test, y_test) = mnist.load_data()"
      ],
      "metadata": {
        "colab": {
          "base_uri": "https://localhost:8080/"
        },
        "id": "riIhfX0hNn6t",
        "outputId": "aed13060-3811-47f2-a95c-b07f416aa5b0"
      },
      "execution_count": 2,
      "outputs": [
        {
          "output_type": "stream",
          "name": "stdout",
          "text": [
            "Downloading data from https://storage.googleapis.com/tensorflow/tf-keras-datasets/mnist.npz\n",
            "11490434/11490434 [==============================] - 2s 0us/step\n"
          ]
        }
      ]
    },
    {
      "cell_type": "code",
      "source": [
        "print(X_train.shape, y_train.shape)\n",
        "print(X_test.shape, y_test.shape)"
      ],
      "metadata": {
        "colab": {
          "base_uri": "https://localhost:8080/"
        },
        "id": "-sXeWwViN3Ld",
        "outputId": "826b9ce2-0cae-4bea-e12a-7b91733c1451"
      },
      "execution_count": 3,
      "outputs": [
        {
          "output_type": "stream",
          "name": "stdout",
          "text": [
            "(60000, 28, 28) (60000,)\n",
            "(10000, 28, 28) (10000,)\n"
          ]
        }
      ]
    },
    {
      "cell_type": "markdown",
      "source": [
        "### Analyzing the data"
      ],
      "metadata": {
        "id": "sgWrBXhnOeIB"
      }
    },
    {
      "cell_type": "code",
      "source": [
        "plt.imshow(X_train[0])"
      ],
      "metadata": {
        "colab": {
          "base_uri": "https://localhost:8080/",
          "height": 282
        },
        "id": "3ZfdZCj1OUXc",
        "outputId": "6e7c0d08-871a-42e0-e235-343ab9c69e7b"
      },
      "execution_count": 4,
      "outputs": [
        {
          "output_type": "execute_result",
          "data": {
            "text/plain": [
              "<matplotlib.image.AxesImage at 0x7fe24642be10>"
            ]
          },
          "metadata": {},
          "execution_count": 4
        },
        {
          "output_type": "display_data",
          "data": {
            "text/plain": [
              "<Figure size 432x288 with 1 Axes>"
            ],
            "image/png": "[encoded data removed]"
          },
          "metadata": {
            "needs_background": "light"
          }
        }
      ]
    },
    {
      "cell_type": "code",
      "source": [
        "plt.imshow(X_train[10])"
      ],
      "metadata": {
        "colab": {
          "base_uri": "https://localhost:8080/",
          "height": 282
        },
        "id": "-un7V92ZP8U5",
        "outputId": "8b5b9364-0c53-40cb-9b65-d57b84f71df8"
      },
      "execution_count": 5,
      "outputs": [
        {
          "output_type": "execute_result",
          "data": {
            "text/plain": [
              "<matplotlib.image.AxesImage at 0x7fe245f1f190>"
            ]
          },
          "metadata": {},
          "execution_count": 5
        },
        {
          "output_type": "display_data",
          "data": {
            "text/plain": [
              "<Figure size 432x288 with 1 Axes>"
            ],
            "image/png": "[encoded data removed]"
          },
          "metadata": {
            "needs_background": "light"
          }
        }
      ]
    },
    {
      "cell_type": "code",
      "source": [
        "print(y_train[0])\n",
        "print(y_train[10])"
      ],
      "metadata": {
        "colab": {
          "base_uri": "https://localhost:8080/"
        },
        "id": "C5ck7GwbPpJO",
        "outputId": "898e28c6-0923-4ac4-ca06-973fb69292f0"
      },
      "execution_count": 6,
      "outputs": [
        {
          "output_type": "stream",
          "name": "stdout",
          "text": [
            "5\n",
            "3\n"
          ]
        }
      ]
    },
    {
      "cell_type": "markdown",
      "source": [
        "### Reshaping the data"
      ],
      "metadata": {
        "id": "K3P5uYljQJQu"
      }
    },
    {
      "cell_type": "code",
      "source": [
        "# Applying threshold for removing noise \n",
        "_, X_train_th = cv2.threshold(X_train,127,255,cv2.THRESH_BINARY)\n",
        "_, X_test_th = cv2.threshold(X_test,127,255,cv2.THRESH_BINARY)"
      ],
      "metadata": {
        "id": "cJ21fVa5QDzG"
      },
      "execution_count": 7,
      "outputs": []
    },
    {
      "cell_type": "code",
      "source": [
        "# Reshaping \n",
        "X_train = X_train_th.reshape(-1,28,28,1)\n",
        "X_test = X_test_th.reshape(-1,28,28,1)"
      ],
      "metadata": {
        "id": "HAUiYBPSQR88"
      },
      "execution_count": 8,
      "outputs": []
    },
    {
      "cell_type": "code",
      "source": [
        "print(X_train.shape)\n",
        "print(X_test.shape)"
      ],
      "metadata": {
        "colab": {
          "base_uri": "https://localhost:8080/"
        },
        "id": "Mr_oeHQnQUUG",
        "outputId": "038fd142-c86d-442b-f0ce-cd1254f0b519"
      },
      "execution_count": 9,
      "outputs": [
        {
          "output_type": "stream",
          "name": "stdout",
          "text": [
            "(60000, 28, 28, 1)\n",
            "(10000, 28, 28, 1)\n"
          ]
        }
      ]
    },
    {
      "cell_type": "markdown",
      "source": [
        "### Applying one hot encoding"
      ],
      "metadata": {
        "id": "LF-YI5pSQoXx"
      }
    },
    {
      "cell_type": "code",
      "source": [
        "num_classes = 10"
      ],
      "metadata": {
        "id": "crIRA9OdQ1M6"
      },
      "execution_count": 10,
      "outputs": []
    },
    {
      "cell_type": "code",
      "source": [
        "# Creating categorical output from 0 to 9\n",
        "y_train = to_categorical(y_train, num_classes = num_classes)\n",
        "y_test = to_categorical(y_test, num_classes = num_classes)"
      ],
      "metadata": {
        "id": "m01eYZYHQe0G"
      },
      "execution_count": 11,
      "outputs": []
    },
    {
      "cell_type": "code",
      "source": [
        "# cross checking shape of input and output\n",
        "print(X_train.shape, y_train.shape)\n",
        "print(X_test.shape, y_test.shape)"
      ],
      "metadata": {
        "id": "Y1IXvyfzQ7an",
        "outputId": "8a9a2f26-38dc-4048-f110-bbed46602ee2",
        "colab": {
          "base_uri": "https://localhost:8080/"
        }
      },
      "execution_count": 12,
      "outputs": [
        {
          "output_type": "stream",
          "name": "stdout",
          "text": [
            "(60000, 28, 28, 1) (60000, 10)\n",
            "(10000, 28, 28, 1) (10000, 10)\n"
          ]
        }
      ]
    },
    {
      "cell_type": "markdown",
      "source": [
        "## Creating CNN Model"
      ],
      "metadata": {
        "id": "l9CrPhItVABk"
      }
    },
    {
      "cell_type": "markdown",
      "source": [
        "### Add CNN Layers"
      ],
      "metadata": {
        "id": "CV2g8iYEUpLg"
      }
    },
    {
      "cell_type": "code",
      "source": [
        "input_shape = (28,28,1)\n",
        "number_of_classes = 10"
      ],
      "metadata": {
        "id": "KaDmjdtzVEfa"
      },
      "execution_count": 14,
      "outputs": []
    },
    {
      "cell_type": "code",
      "source": [
        "model = Sequential()"
      ],
      "metadata": {
        "id": "YkIO5LUuRBZW"
      },
      "execution_count": 13,
      "outputs": []
    },
    {
      "cell_type": "code",
      "source": [
        "model.add(Conv2D(32, kernel_size=(3, 3),activation='relu',input_shape=input_shape))\n",
        "model.add(Conv2D(64, (3, 3), activation='relu'))\n",
        "model.add(MaxPool2D(pool_size=(2, 2)))\n",
        "model.add(Dropout(0.25))\n",
        "model.add(Flatten())\n",
        "model.add(Dense(128, activation='relu'))\n",
        "model.add(Dropout(0.5))\n",
        "model.add(Dense(number_of_classes, activation='softmax'))"
      ],
      "metadata": {
        "id": "uSTJtc7ZUxvs"
      },
      "execution_count": 15,
      "outputs": []
    },
    {
      "cell_type": "markdown",
      "source": [
        "### Compiling the model"
      ],
      "metadata": {
        "id": "eELPKV3cViE_"
      }
    },
    {
      "cell_type": "code",
      "source": [
        "model.compile(loss=keras.losses.categorical_crossentropy,\n",
        "              optimizer=keras.optimizers.Adadelta(),metrics=['accuracy'])"
      ],
      "metadata": {
        "id": "kW7VG2_pVbsI"
      },
      "execution_count": 17,
      "outputs": []
    },
    {
      "cell_type": "code",
      "source": [
        "model.summary()"
      ],
      "metadata": {
        "colab": {
          "base_uri": "https://localhost:8080/"
        },
        "id": "h8j20foNVwqT",
        "outputId": "ba63328c-b2c3-470c-ad76-bb01c9eae4f2"
      },
      "execution_count": 18,
      "outputs": [
        {
          "output_type": "stream",
          "name": "stdout",
          "text": [
            "Model: \"sequential\"\n",
            "_________________________________________________________________\n",
            " Layer (type)                Output Shape              Param #   \n",
            "=================================================================\n",
            " conv2d (Conv2D)             (None, 26, 26, 32)        320       \n",
            "                                                                 \n",
            " conv2d_1 (Conv2D)           (None, 24, 24, 64)        18496     \n",
            "                                                                 \n",
            " max_pooling2d (MaxPooling2D  (None, 12, 12, 64)       0         \n",
            " )                                                               \n",
            "                                                                 \n",
            " dropout (Dropout)           (None, 12, 12, 64)        0         \n",
            "                                                                 \n",
            " flatten (Flatten)           (None, 9216)              0         \n",
            "                                                                 \n",
            " dense (Dense)               (None, 128)               1179776   \n",
            "                                                                 \n",
            " dropout_1 (Dropout)         (None, 128)               0         \n",
            "                                                                 \n",
            " dense_1 (Dense)             (None, 10)                1290      \n",
            "                                                                 \n",
            "=================================================================\n",
            "Total params: 1,199,882\n",
            "Trainable params: 1,199,882\n",
            "Non-trainable params: 0\n",
            "_________________________________________________________________\n"
          ]
        }
      ]
    },
    {
      "cell_type": "markdown",
      "source": [
        "### Fitting the model"
      ],
      "metadata": {
        "id": "uGmitFhPV5U2"
      }
    },
    {
      "cell_type": "code",
      "source": [
        "history = model.fit(X_train, y_train,epochs=10, shuffle=True,\n",
        "                    batch_size = 200,validation_data= (X_test, y_test))  "
      ],
      "metadata": {
        "colab": {
          "base_uri": "https://localhost:8080/"
        },
        "id": "t-hPhJ47VzUh",
        "outputId": "01b396ba-c33f-4f63-ed26-1abadb1ec31c"
      },
      "execution_count": 19,
      "outputs": [
        {
          "output_type": "stream",
          "name": "stdout",
          "text": [
            "Epoch 1/10\n",
            "300/300 [==============================] - 12s 13ms/step - loss: 25.0222 - accuracy: 0.1340 - val_loss: 6.4139 - val_accuracy: 0.2741\n",
            "Epoch 2/10\n",
            "300/300 [==============================] - 3s 12ms/step - loss: 13.1048 - accuracy: 0.2047 - val_loss: 2.8442 - val_accuracy: 0.4471\n",
            "Epoch 3/10\n",
            "300/300 [==============================] - 3s 12ms/step - loss: 7.6952 - accuracy: 0.2652 - val_loss: 1.6616 - val_accuracy: 0.5193\n",
            "Epoch 4/10\n",
            "300/300 [==============================] - 4s 12ms/step - loss: 4.8530 - accuracy: 0.2993 - val_loss: 1.4142 - val_accuracy: 0.5263\n",
            "Epoch 5/10\n",
            "300/300 [==============================] - 3s 12ms/step - loss: 3.3710 - accuracy: 0.3187 - val_loss: 1.4966 - val_accuracy: 0.5306\n",
            "Epoch 6/10\n",
            "300/300 [==============================] - 3s 12ms/step - loss: 2.6692 - accuracy: 0.3259 - val_loss: 1.5944 - val_accuracy: 0.5289\n",
            "Epoch 7/10\n",
            "300/300 [==============================] - 3s 12ms/step - loss: 2.3340 - accuracy: 0.3370 - val_loss: 1.6454 - val_accuracy: 0.5228\n",
            "Epoch 8/10\n",
            "300/300 [==============================] - 4s 12ms/step - loss: 2.1625 - accuracy: 0.3483 - val_loss: 1.6529 - val_accuracy: 0.5285\n",
            "Epoch 9/10\n",
            "300/300 [==============================] - 4s 13ms/step - loss: 2.0668 - accuracy: 0.3573 - val_loss: 1.6207 - val_accuracy: 0.5426\n",
            "Epoch 10/10\n",
            "300/300 [==============================] - 4s 14ms/step - loss: 1.9738 - accuracy: 0.3768 - val_loss: 1.5617 - val_accuracy: 0.5692\n"
          ]
        }
      ]
    },
    {
      "cell_type": "markdown",
      "source": [
        "### Save the model"
      ],
      "metadata": {
        "id": "CsBbSQhcWI5z"
      }
    },
    {
      "cell_type": "code",
      "source": [
        "model.save(\"digit_classifier.h5\")"
      ],
      "metadata": {
        "id": "yYbzazuKV_kF"
      },
      "execution_count": 20,
      "outputs": []
    }
  ]
}